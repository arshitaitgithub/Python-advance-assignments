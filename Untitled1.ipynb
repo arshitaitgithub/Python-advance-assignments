{
 "cells": [
  {
   "cell_type": "markdown",
   "id": "66486ee7",
   "metadata": {},
   "source": [
    "### Q1. What is the relationship between classes and modules?"
   ]
  },
  {
   "cell_type": "markdown",
   "id": "218d82c0",
   "metadata": {},
   "source": [
    "#### Ans: A Python class is like an outline/blueprint/mold for creating a new object. An object is anything that you wish to\n",
    "manipulate or change while working through the code. Every time a class object is instantiated, which is when we declare a variable, a new object is initiated from scratch"
   ]
  },
  {
   "cell_type": "markdown",
   "id": "5077ee53",
   "metadata": {},
   "source": [
    "### Q2. How do you make instances and classes?"
   ]
  },
  {
   "cell_type": "code",
   "execution_count": null,
   "id": "5d504726",
   "metadata": {},
   "outputs": [],
   "source": [
    "Ans: For creating a class instance. we call a class by its name and pass the arguments which its init method accepts.\n",
    "\n",
    "Whereas for creating a class, we use the Class keyword. Class keyword is followed by classname and semicolon."
   ]
  },
  {
   "cell_type": "markdown",
   "id": "e6237682",
   "metadata": {},
   "source": [
    "### Q3. Where and how should be class attributes created?\n"
   ]
  },
  {
   "cell_type": "markdown",
   "id": "fa7ccdb3",
   "metadata": {},
   "source": [
    "Ans: Class attributes or Class level Attributes belong to the class itself. these attributes will be shared by all the instances of the class. Hence these attributes are usually created/defined in the top of class definiation outside all methods.\n",
    "\n",
    "Example: In the below code we are defining a class attribute called no_of_wheels which will be shared by all the instances of the class Car\n",
    "\n"
   ]
  },
  {
   "cell_type": "code",
   "execution_count": null,
   "id": "802d472d",
   "metadata": {},
   "outputs": [],
   "source": [
    "class Car:\n",
    "    no_of_wheels = 4; # this is a class attribute\n",
    "    def __init__(self,color,price,engine):\n",
    "        self.color = color # All this are instance attributes\n",
    "        self.price = price\n",
    "        self.engine = engine\n"
   ]
  },
  {
   "cell_type": "markdown",
   "id": "15e786be",
   "metadata": {},
   "source": [
    "### Q4. Where and how are instance attributes created?"
   ]
  },
  {
   "cell_type": "markdown",
   "id": "8493b8b0",
   "metadata": {},
   "source": [
    "Ans: Instances attributes are passed to the class when an object of the class is created. Unlike class attributes, instance attributes are not shared by all objects of the classs. instead each object maintains its own copy of instance attributes at object level. whereas incase of class attributes all instances of class refer to a single copy. Usually instance attributes are defined within the init method of class"
   ]
  },
  {
   "cell_type": "markdown",
   "id": "00d436b7",
   "metadata": {},
   "source": [
    "### Q 5What does the term \"self\" in a Python class mean?\n"
   ]
  },
  {
   "cell_type": "markdown",
   "id": "8571f65f",
   "metadata": {},
   "source": [
    " Ans: self represents the instance of the class (it represents the object itself). By using the “self” keyword we can access the attributes and methods of the class with in the class in python. It binds the attributes with the given arguments.\n",
    "\n"
   ]
  },
  {
   "cell_type": "markdown",
   "id": "749dcddb",
   "metadata": {},
   "source": [
    "### Q6. How does a Python class handle operator overloading?"
   ]
  },
  {
   "cell_type": "raw",
   "id": "12869b33",
   "metadata": {},
   "source": [
    "Ans: Python Classes handle operator overloading by using special methods called Magic methods. these special methods usually begin and end with __ (double underscore)"
   ]
  },
  {
   "cell_type": "markdown",
   "id": "ce3b59f9",
   "metadata": {},
   "source": [
    "### Q7. When do you consider allowing operator overloading of your classes?"
   ]
  },
  {
   "cell_type": "code",
   "execution_count": null,
   "id": "b8c7d559",
   "metadata": {},
   "outputs": [],
   "source": [
    "Ans: When we want to have different meaning for the same operator accroding to the context we use operator overloading.\n",
    "\n"
   ]
  },
  {
   "cell_type": "markdown",
   "id": "8a584816",
   "metadata": {},
   "source": [
    "### Q8. What is the most popular form of operator overloading?"
   ]
  },
  {
   "cell_type": "markdown",
   "id": "dc7838b8",
   "metadata": {},
   "source": [
    " Ans: The most popular form of operator overloading in python is by special methods called Magic methods. Which usually beign and end with double underscore .\n",
    "\n"
   ]
  },
  {
   "cell_type": "markdown",
   "id": "5a07ea4d",
   "metadata": {},
   "source": [
    "### Q9. What are the two most important concepts to grasp in order to comprehend Python OOP code?"
   ]
  },
  {
   "cell_type": "code",
   "execution_count": null,
   "id": "5e5f4932",
   "metadata": {},
   "outputs": [],
   "source": [
    "Ans: Classes and objects are the two concepts to comprehend python OOP code as more formally objects are entities that represent instances of general abstract concept called class\n",
    "\n",
    "Along with classes and objects the important concepts to grasp are:\n",
    "\n",
    "Inheritence\n",
    "\n",
    "Abstraction\n",
    "\n",
    "Polymorphism\n",
    "\n",
    "Encapsulation"
   ]
  }
 ],
 "metadata": {
  "kernelspec": {
   "display_name": "Python 3 (ipykernel)",
   "language": "python",
   "name": "python3"
  },
  "language_info": {
   "codemirror_mode": {
    "name": "ipython",
    "version": 3
   },
   "file_extension": ".py",
   "mimetype": "text/x-python",
   "name": "python",
   "nbconvert_exporter": "python",
   "pygments_lexer": "ipython3",
   "version": "3.9.13"
  }
 },
 "nbformat": 4,
 "nbformat_minor": 5
}
