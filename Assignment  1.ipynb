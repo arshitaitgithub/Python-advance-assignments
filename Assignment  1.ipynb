{
 "cells": [
  {
   "cell_type": "markdown",
   "id": "e0d16298",
   "metadata": {},
   "source": [
    "### Q1. What is the purpose of Python's OOP?\n"
   ]
  },
  {
   "cell_type": "markdown",
   "id": "52df6705",
   "metadata": {},
   "source": [
    "Ans: In Python, object-oriented Programming (OOPs) uses objects and classes in programming.\n",
    "\n",
    "It aims to implement real-world entities like inheritance, polymorphisms, encapsulation, etc. in the programming.\n",
    "\n",
    "The main concept of OOPs is to bind the data and the functions that work on that together as a single unit so that no other part of the code can access this data."
   ]
  },
  {
   "cell_type": "markdown",
   "id": "da2dd2fa",
   "metadata": {},
   "source": [
    "### Q2. Where does an inheritance search look for an attribute?"
   ]
  },
  {
   "cell_type": "markdown",
   "id": "89ef9d37",
   "metadata": {},
   "source": [
    "Ans: Python searches for an attribute in an upward tree of attributes. it first searches for the attribute in its instance and then looks in the class it is generated from, to all super classes listed in its class header\n",
    "\n"
   ]
  },
  {
   "cell_type": "markdown",
   "id": "e52ef3f6",
   "metadata": {},
   "source": [
    "### Q3. How do you distinguish between a class object and an instance object?\n"
   ]
  },
  {
   "cell_type": "markdown",
   "id": "c03a65a0",
   "metadata": {},
   "source": [
    "Ans: Class is a template for creating objects whereas object is an instance of class\n",
    "\n",
    "Seperate memory is allocated for each object whenever an object is created. but for a class this doesnot happens.\n",
    "\n",
    "A Class is created once. Many objects are created using a class.\n",
    "\n",
    "As Classes have no allocated memory. they can't be manipulated. but objects can be manipulated.\n",
    "\n"
   ]
  },
  {
   "cell_type": "markdown",
   "id": "715f8ae3",
   "metadata": {},
   "source": [
    "### 4. What makes the first argument in a class’s method function special?"
   ]
  },
  {
   "cell_type": "markdown",
   "id": "8b464a91",
   "metadata": {},
   "source": [
    "Ans: Python Classes usually have three types of methods which are:\n",
    "\n",
    "Instance Methods (object level methods)\n",
    "\n",
    "Class Methods (class level methods)\n",
    "\n",
    "Static Methods (general utility methods)\n",
    "\n",
    "self is the first argument for instance methods. which refers to the object itself\n",
    "\n",
    "cls is the first argument for class methods which refers to the class itself\n",
    "\n"
   ]
  },
  {
   "cell_type": "markdown",
   "id": "29f3776d",
   "metadata": {},
   "source": [
    "### Q5. What is the purpose of the init method?"
   ]
  },
  {
   "cell_type": "markdown",
   "id": "3774989e",
   "metadata": {},
   "source": [
    "Ans: init is a reseved method in python classes. It serves the role of a constructor in object oriented terminology. This method is called when an object is created from a class and it allows the class to initialize the attributes of the class"
   ]
  },
  {
   "cell_type": "markdown",
   "id": "84cc2334",
   "metadata": {},
   "source": [
    "### Q6. What is the process for creating a class instance?\n"
   ]
  },
  {
   "cell_type": "markdown",
   "id": "09f389cc",
   "metadata": {},
   "source": [
    "Ans: To create a class instance, we need to call the class by its name and pass the arguments to the class, which its init method accepts.\n",
    "\n",
    "Example:-\n",
    "my_name = my_class(\"arshita\",\"arshu\") Here my_name is an instance of class my_class with attributes \"arshita\" and \"arshu\".\n",
    "\n"
   ]
  },
  {
   "cell_type": "markdown",
   "id": "4fcc50a7",
   "metadata": {},
   "source": [
    "Q  What is the process for creating a class?"
   ]
  },
  {
   "cell_type": "markdown",
   "id": "d3c25677",
   "metadata": {},
   "source": [
    "Ans: class keyword is used to created a class in python. The syntax to create a class in python is class :\n",
    "\n",
    "Example: class shop: ➞ this creates a class called shop"
   ]
  },
  {
   "cell_type": "markdown",
   "id": "c5c2910d",
   "metadata": {},
   "source": [
    "### Q8. How would you define the superclasses of a class?"
   ]
  },
  {
   "cell_type": "code",
   "execution_count": null,
   "id": "f801581f",
   "metadata": {},
   "outputs": [],
   "source": [
    "Ans Superclass/Parent class is given as a arugment to the child class"
   ]
  }
 ],
 "metadata": {
  "kernelspec": {
   "display_name": "Python 3 (ipykernel)",
   "language": "python",
   "name": "python3"
  },
  "language_info": {
   "codemirror_mode": {
    "name": "ipython",
    "version": 3
   },
   "file_extension": ".py",
   "mimetype": "text/x-python",
   "name": "python",
   "nbconvert_exporter": "python",
   "pygments_lexer": "ipython3",
   "version": "3.9.13"
  }
 },
 "nbformat": 4,
 "nbformat_minor": 5
}
