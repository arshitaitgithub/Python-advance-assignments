{
 "cells": [
  {
   "cell_type": "markdown",
   "id": "9dfc83f0",
   "metadata": {},
   "source": [
    "### 1. Which two operator overloading methods can you use in your classes to support iteration?"
   ]
  },
  {
   "cell_type": "markdown",
   "id": "0bab5ec7",
   "metadata": {},
   "source": [
    "Ans: iter and next are the operator overloading methods in python that support iteration and are collectively called iterator protocol.\n",
    "\n",
    "iter returns the iterator object and is called at the start of loop in our respective class.\n",
    "\n",
    "next is called at each loop increment, it returns the incremented value. Also Stopiteration is raised when there is no value to return.\n",
    "\n"
   ]
  },
  {
   "cell_type": "code",
   "execution_count": 1,
   "id": "4d4aaba9",
   "metadata": {},
   "outputs": [
    {
     "name": "stdout",
     "output_type": "stream",
     "text": [
      "5 6 7 8 9 10 11 12 13 14 15 "
     ]
    }
   ],
   "source": [
    "class Counter:\n",
    "    def __init__(self,low,high):\n",
    "        self.current = low\n",
    "        self.high = high\n",
    "    def __iter__(self):\n",
    "        return self\n",
    "    def __next__(self):\n",
    "        if self.current > self.high:\n",
    "            raise StopIteration\n",
    "        else:\n",
    "            self.current += 1\n",
    "            return self.current - 1\n",
    "for ele in Counter(5,15):\n",
    "    print(ele, end=\" \")"
   ]
  },
  {
   "cell_type": "markdown",
   "id": "8641c2e4",
   "metadata": {},
   "source": [
    "### Q2. In what contexts do the two operator overloading methods manage printing?"
   ]
  },
  {
   "cell_type": "markdown",
   "id": "d219fb14",
   "metadata": {},
   "source": [
    " Ans: str and repr are two operator overloading methods that manage printing.\n",
    "\n",
    "In Short, the difference between both these operators is the goal of repr is to be unambiguous and str is to be readable. Whenever we are printing any object reference internally str method will be called by default. The main purpose of str is for readability. it prints the informal string representation of an object, one that is useful for printing the object. it may not be possible to convert result string to original object. repr is used to print official string representation of an object, so it includes all information and development.\n",
    "\n"
   ]
  },
  {
   "cell_type": "markdown",
   "id": "bf94be0a",
   "metadata": {},
   "source": [
    "### Q3. In a class, how do you intercept slice operations?"
   ]
  },
  {
   "cell_type": "markdown",
   "id": "09a0511f",
   "metadata": {},
   "source": [
    "Ans: In a class use of slice() in getitem method is used for intercept slice operation. This slice method is provided with start integer number, stop integer number and step integer number.\n",
    "\n",
    "Example: getitem(slice(start,stop,step))\n",
    "\n"
   ]
  },
  {
   "cell_type": "markdown",
   "id": "46225ffe",
   "metadata": {},
   "source": [
    "### Q4. In a class, how do you capture in-place addition?"
   ]
  },
  {
   "cell_type": "markdown",
   "id": "0be549ad",
   "metadata": {},
   "source": [
    "Ans: a+b is normal addition. Whereas a+=b is inplace addition operation. In this in-place addition a itself will store the value of addition. In a class iadd method is used for this in-place operation\n",
    "\n"
   ]
  },
  {
   "cell_type": "markdown",
   "id": "6837bc33",
   "metadata": {},
   "source": [
    "### Q5. When is it appropriate to use operator overloading?"
   ]
  },
  {
   "cell_type": "markdown",
   "id": "dd5ef5f2",
   "metadata": {},
   "source": [
    "Ans: Operator overloading is used when we want to use an operator other than its normal operation to have different meaning according to the context required in user defined function."
   ]
  }
 ],
 "metadata": {
  "kernelspec": {
   "display_name": "Python 3 (ipykernel)",
   "language": "python",
   "name": "python3"
  },
  "language_info": {
   "codemirror_mode": {
    "name": "ipython",
    "version": 3
   },
   "file_extension": ".py",
   "mimetype": "text/x-python",
   "name": "python",
   "nbconvert_exporter": "python",
   "pygments_lexer": "ipython3",
   "version": "3.9.13"
  }
 },
 "nbformat": 4,
 "nbformat_minor": 5
}
