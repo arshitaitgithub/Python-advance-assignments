{
 "cells": [
  {
   "cell_type": "code",
   "execution_count": null,
   "id": "6c1ba47c-59e8-43ca-b8e0-c49fa5047784",
   "metadata": {},
   "outputs": [],
   "source": [
    "1. What are the two latest user-defined exception constraints in Python 3.X?\n"
   ]
  },
  {
   "cell_type": "code",
   "execution_count": null,
   "id": "3bb4e411-78fa-45e0-a80e-2de5714d3cfa",
   "metadata": {},
   "outputs": [],
   "source": [
    "Ans: raise and assert are the two latest user-defined exception constraints in Python 3.X\n",
    "\n"
   ]
  },
  {
   "cell_type": "code",
   "execution_count": null,
   "id": "f3d71f33-981f-4160-a8b8-f8075fb30594",
   "metadata": {},
   "outputs": [],
   "source": [
    "2. How are class-based exceptions that have been raised matched to handlers?\n"
   ]
  },
  {
   "cell_type": "code",
   "execution_count": null,
   "id": "ef7bd9da-9c5b-4a4e-b817-fd4fe8e32cef",
   "metadata": {},
   "outputs": [],
   "source": [
    "Ans: In python, Users can define custom exceptions by creating a new class. This exception class has to be derived, either\n",
    "directly or indirectly from built-in Exception class. This new exception class like other exceptions can be raised using the\n",
    "raise statement with an optional error message.\n",
    "\n"
   ]
  },
  {
   "cell_type": "code",
   "execution_count": 3,
   "id": "5f1769c1-37d7-4bb3-a33a-f1d774c145c6",
   "metadata": {},
   "outputs": [
    {
     "ename": "ToYoungException",
     "evalue": "To Young For Voting",
     "output_type": "error",
     "traceback": [
      "\u001b[0;31m---------------------------------------------------------------------------\u001b[0m",
      "\u001b[0;31mToYoungException\u001b[0m                          Traceback (most recent call last)",
      "Cell \u001b[0;32mIn [3], line 5\u001b[0m\n\u001b[1;32m      3\u001b[0m         \u001b[38;5;28mself\u001b[39m\u001b[38;5;241m.\u001b[39mmsg \u001b[38;5;241m=\u001b[39m msg\n\u001b[1;32m      4\u001b[0m age \u001b[38;5;241m=\u001b[39m \u001b[38;5;241m12\u001b[39m\n\u001b[0;32m----> 5\u001b[0m \u001b[38;5;28;01mif\u001b[39;00m age \u001b[38;5;241m<\u001b[39m\u001b[38;5;241m=\u001b[39m \u001b[38;5;241m18\u001b[39m: \u001b[38;5;28;01mraise\u001b[39;00m ToYoungException(\u001b[38;5;124m'\u001b[39m\u001b[38;5;124mTo Young For Voting\u001b[39m\u001b[38;5;124m'\u001b[39m)\n",
      "\u001b[0;31mToYoungException\u001b[0m: To Young For Voting"
     ]
    }
   ],
   "source": [
    "class ToYoungException(Exception):\n",
    "    def __init__(self,msg):\n",
    "        self.msg = msg\n",
    "age = 12\n",
    "if age <= 18: raise ToYoungException('To Young For Voting')"
   ]
  },
  {
   "cell_type": "code",
   "execution_count": null,
   "id": "94231450-f906-4ab6-9ed2-e988a72604ba",
   "metadata": {},
   "outputs": [],
   "source": [
    "3. Describe two methods for attaching context information to exception artefacts ?\n"
   ]
  },
  {
   "cell_type": "code",
   "execution_count": null,
   "id": "bec04c97-9f90-4e23-ad01-b0871935a8eb",
   "metadata": {},
   "outputs": [],
   "source": [
    "Ans: The process() method of LoggerAdapter is where the contextual information is added to the logging output. its passes the message and keyword arguments of the logging call, and it passes back modified versions of these to use in the call to the underlying logger.\n",
    "\n",
    "Other method that can be used is exception(), Logs a messgae with level ERROR on this logger. The arguments are interpreted as for debug(). Exception info is added to the logging message\n",
    "\n"
   ]
  },
  {
   "cell_type": "code",
   "execution_count": null,
   "id": "ba906cfd-d08e-4f49-bb00-c7d98de0dc94",
   "metadata": {},
   "outputs": [],
   "source": [
    "4. Describe two methods for specifying the text of an exception object's error message ?\n"
   ]
  },
  {
   "cell_type": "code",
   "execution_count": null,
   "id": "69d66035-76a5-4bb6-92aa-06e5ea3a1f79",
   "metadata": {},
   "outputs": [],
   "source": [
    "Ans: raise and assert are two methods for specifying the text of an exception object's error message.raise statement is used to trigger explicit exception, if certain condition is not as per requirement of programmer. it helps in triggering exception as per need of programmer and logic.\n",
    "\n",
    "There are few assertions that programmer always want to be True to avoid code failure. This type of requirment is fullfilled by assert statement. This statement takes a Boolean Condition output of which if True, further program executes. if output of assert statement is False it raises an Assertion Error."
   ]
  },
  {
   "cell_type": "code",
   "execution_count": null,
   "id": "6e072f5a-d788-4693-a79a-d8b2b57a254c",
   "metadata": {},
   "outputs": [],
   "source": [
    "5. Why do you no longer use string-based exceptions?\n"
   ]
  },
  {
   "cell_type": "code",
   "execution_count": null,
   "id": "23b057d9-7919-4901-8b3c-5328759e1698",
   "metadata": {},
   "outputs": [],
   "source": [
    "Ans: String-based Exceptions doesn't inherit from Exceptions. so plain exceptions catch all exceptions and not only system."
   ]
  }
 ],
 "metadata": {
  "kernelspec": {
   "display_name": "Python 3 (ipykernel)",
   "language": "python",
   "name": "python3"
  },
  "language_info": {
   "codemirror_mode": {
    "name": "ipython",
    "version": 3
   },
   "file_extension": ".py",
   "mimetype": "text/x-python",
   "name": "python",
   "nbconvert_exporter": "python",
   "pygments_lexer": "ipython3",
   "version": "3.10.6"
  }
 },
 "nbformat": 4,
 "nbformat_minor": 5
}
