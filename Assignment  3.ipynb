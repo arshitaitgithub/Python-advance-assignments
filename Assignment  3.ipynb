{
 "cells": [
  {
   "cell_type": "markdown",
   "id": "8c6b66f1",
   "metadata": {},
   "source": [
    "Q1. What is the concept of an abstract superclass?"
   ]
  },
  {
   "cell_type": "markdown",
   "id": "bf2dc3b1",
   "metadata": {},
   "source": [
    "Ans: An abstract class/superclass can be considered as a blueprint for other classes. It allows you to create a set of methods that must be created within any child classes built from the abstract class. A class which contains one or more abstract methods is called an abstract class.\n",
    "\n",
    "Whereas an abstract method is a method that has a declaration but does not have an implementation"
   ]
  },
  {
   "cell_type": "markdown",
   "id": "033748c5",
   "metadata": {},
   "source": [
    "### Q2. What happens when a class statement's top level contains a basic assignment statement?"
   ]
  },
  {
   "cell_type": "markdown",
   "id": "c516dd6f",
   "metadata": {},
   "source": [
    "Ans: When a Class statement's top level contains a basic assignment statement, its usually treated as a class attribute or class level variable.\n",
    "\n",
    "where as assignment statements inside methods are treated as instance attributes or local attributes.\n",
    "\n",
    "When an instance of a class is created a single copy of class attributes is maintained and shared to all instances of class. where as each instance object maintains its own copy of instance variables.\n",
    "\n"
   ]
  },
  {
   "cell_type": "markdown",
   "id": "969b3751",
   "metadata": {},
   "source": [
    "### Q3. Why does a class need to manually call a superclass's init method?\n"
   ]
  },
  {
   "cell_type": "markdown",
   "id": "8c7dad8e",
   "metadata": {},
   "source": [
    "Ans: if a child class has init method, then it will not inherit the init method of the parent class. in other words the init method of the child class overrides the init method of the parent class. so we have to manually call a parent superclass's init using super() method\n",
    "\n"
   ]
  },
  {
   "cell_type": "code",
   "execution_count": 1,
   "id": "eebb3c50",
   "metadata": {},
   "outputs": [
    {
     "name": "stdout",
     "output_type": "stream",
     "text": [
      "{'name': 'ARSHU', 'age': 21, 'salary': 70000}\n"
     ]
    },
    {
     "data": {
      "text/plain": [
       "{'name': 'ARSHU', 'age': 21, 'salary': 70000}"
      ]
     },
     "execution_count": 1,
     "metadata": {},
     "output_type": "execute_result"
    }
   ],
   "source": [
    "class Person:\n",
    "    def __init__(self,name,age):\n",
    "        self.name = name\n",
    "        self.age = age       \n",
    "class Employee(Person):\n",
    "    def __init__(self,name,age,salary):\n",
    "        super().__init__(name,age)\n",
    "        self.salary = salary\n",
    "emp_1 = Employee('ARSHU',21,70000)\n",
    "print(emp_1.__dict__)\n",
    "{'name': 'ARSHU', 'age': 21, 'salary': 70000}"
   ]
  },
  {
   "cell_type": "markdown",
   "id": "20541ff0",
   "metadata": {},
   "source": [
    "### Q4. How can you augment, instead of completely replacing, an inherited method?"
   ]
  },
  {
   "cell_type": "markdown",
   "id": "bdb193e1",
   "metadata": {},
   "source": [
    " Ans: super() method can be used to augment, instead of completely replacing, an inherited method.\n",
    "\n"
   ]
  },
  {
   "cell_type": "markdown",
   "id": "65c9e849",
   "metadata": {},
   "source": [
    "### Q5. How is the local scope of a class different from that of a function?"
   ]
  },
  {
   "cell_type": "markdown",
   "id": "fee53e3e",
   "metadata": {},
   "source": [
    "Ans: A Variable which is defined inside a function is local to that function. it is accesible from the point at which it is defined until the end of the function, and exists for as long as the function is existing.\n",
    "\n",
    "Similary a variable inside of a class also has a local variable scope. Variables which are defined in the class body (but outside all methods) are called as class level variables or class attributes. they can be referenced by there bare names within the same scope, but they can also be accessed from outside this scope if we use the attribute access operator (.). on a class or an instance of the class."
   ]
  }
 ],
 "metadata": {
  "kernelspec": {
   "display_name": "Python 3 (ipykernel)",
   "language": "python",
   "name": "python3"
  },
  "language_info": {
   "codemirror_mode": {
    "name": "ipython",
    "version": 3
   },
   "file_extension": ".py",
   "mimetype": "text/x-python",
   "name": "python",
   "nbconvert_exporter": "python",
   "pygments_lexer": "ipython3",
   "version": "3.9.13"
  }
 },
 "nbformat": 4,
 "nbformat_minor": 5
}
